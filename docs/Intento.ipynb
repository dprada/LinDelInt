{
 "cells": [
  {
   "cell_type": "code",
   "execution_count": 11,
   "id": "5f0e7b76-ff7a-4b33-a75e-dfb9475c0466",
   "metadata": {},
   "outputs": [],
   "source": [
    "import numpy as np\n",
    "import numpy.linalg as la"
   ]
  },
  {
   "cell_type": "code",
   "execution_count": 12,
   "id": "9eb54cb3-b292-405c-8e8a-e7cb371b4610",
   "metadata": {},
   "outputs": [],
   "source": [
    "vs = np.array([[0.0, 0.0], [0.0, 1.0], [1.0, 0.0]])"
   ]
  },
  {
   "cell_type": "code",
   "execution_count": 23,
   "id": "a34c0c5a-92b3-4168-91fb-82607e3f2717",
   "metadata": {},
   "outputs": [],
   "source": [
    "def barycentric_coords(vertices, point):\n",
    "    T = (np.array(vertices[:-1])-vertices[-1]).T\n",
    "    v = np.dot(la.inv(T), np.array(point)-vertices[-1])\n",
    "    v.resize(len(vertices))\n",
    "    v[-1] = 1-v.sum()\n",
    "    return v"
   ]
  },
  {
   "cell_type": "code",
   "execution_count": 29,
   "id": "adacc220-2df6-41f3-b9cf-1cd84995f0dd",
   "metadata": {},
   "outputs": [],
   "source": [
    "p = np.array([0.5, 0.5])"
   ]
  },
  {
   "cell_type": "code",
   "execution_count": 30,
   "id": "fc3086f9-c4df-43c6-9fbf-559eec3b2c07",
   "metadata": {},
   "outputs": [
    {
     "data": {
      "text/plain": [
       "array([0. , 0.5, 0.5])"
      ]
     },
     "execution_count": 30,
     "metadata": {},
     "output_type": "execute_result"
    }
   ],
   "source": [
    "barycentric_coords(vs, p)"
   ]
  },
  {
   "cell_type": "code",
   "execution_count": 34,
   "id": "cdc5656b-f477-405a-af49-87cbf7b75df1",
   "metadata": {},
   "outputs": [],
   "source": [
    "vs = np.array([[0.0], [2.0]])"
   ]
  },
  {
   "cell_type": "code",
   "execution_count": 43,
   "id": "26141fd5-509d-42db-a4e0-b3e7ab3d79b1",
   "metadata": {},
   "outputs": [],
   "source": [
    "p = np.array([0.0])"
   ]
  },
  {
   "cell_type": "code",
   "execution_count": 44,
   "id": "b288d1d4-f53e-4ccd-9629-49c6697d96e1",
   "metadata": {},
   "outputs": [
    {
     "data": {
      "text/plain": [
       "array([1., 0.])"
      ]
     },
     "execution_count": 44,
     "metadata": {},
     "output_type": "execute_result"
    }
   ],
   "source": [
    "barycentric_coords(vs, p)"
   ]
  },
  {
   "cell_type": "code",
   "execution_count": null,
   "id": "473ba4a8-716a-4a79-93cd-4b712d364a40",
   "metadata": {},
   "outputs": [],
   "source": []
  }
 ],
 "metadata": {
  "kernelspec": {
   "display_name": "Python 3 (ipykernel)",
   "language": "python",
   "name": "python3"
  },
  "language_info": {
   "codemirror_mode": {
    "name": "ipython",
    "version": 3
   },
   "file_extension": ".py",
   "mimetype": "text/x-python",
   "name": "python",
   "nbconvert_exporter": "python",
   "pygments_lexer": "ipython3",
   "version": "3.9.13"
  }
 },
 "nbformat": 4,
 "nbformat_minor": 5
}
